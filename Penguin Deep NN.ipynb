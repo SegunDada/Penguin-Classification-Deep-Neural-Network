{
 "cells": [
  {
   "cell_type": "markdown",
   "id": "f077357a-f0e0-4756-8709-14fee9801458",
   "metadata": {},
   "source": [
    "## NOTES\n",
    "\n",
    "- I GOT THIS DATASET CALLED PENGUINS.CSV. SO I WANTED TO CREATE A NEURAL NETWORK MODEL OF IT. THE FEATURES ARE SCALED DIFFERENTLY, SO ONE COLUMN DATA IS LARGER THAN OTHERS. PRIOR TO NORMALIZATION, THE MODEL COULD NOT CONVERGE WELL. THE LOSS WAS NOT SO MINIMAL.\n",
    "- I INITIALLY USED THE NORMALIZATION FUNCTION (F.normalize(p = 2 (L2 norm), dim = 1 (normallize along column axis))), BUT THE LOSS WAS NOT STILL VERY MINIMAL. BUT USING THE MINMAXSCALER CLASS SEEMED TO PRODUCE A BETTER MINIMIZED LOSS"
   ]
  },
  {
   "cell_type": "code",
   "execution_count": 22,
   "id": "068a87fd-f654-40b0-a8b9-736915ffa20c",
   "metadata": {},
   "outputs": [],
   "source": [
    "import torch\n",
    "import torch.nn as nn\n",
    "import torch.nn.functional as F\n",
    "import pandas as pd\n",
    "import numpy as np\n",
    "import matplotlib.pyplot as plt\n",
    "from sklearn.model_selection import train_test_split\n",
    "from sklearn.preprocessing import MinMaxScaler\n",
    "\n"
   ]
  },
  {
   "cell_type": "code",
   "execution_count": 23,
   "id": "053f8859-8f89-45bc-8ed8-72808bdb9175",
   "metadata": {},
   "outputs": [],
   "source": [
    "class Model(nn.Module):\n",
    "    def __init__(self, in_features = 4, h1 = 10, h2 = 10, out_features = 2):\n",
    "        super().__init__()\n",
    "        self.fc1 = nn.Linear(in_features, h1)\n",
    "        self.fc2 = nn.Linear(h1, h2)\n",
    "        self.out = nn.Linear(h2, out_features)\n",
    "\n",
    "    def forward(self, x):\n",
    "        x = F.relu(self.fc1(x))\n",
    "        x = F.relu(self.fc2(x))\n",
    "        x = F.sigmoid(self.out(x))\n",
    "\n",
    "        return x\n",
    "    "
   ]
  },
  {
   "cell_type": "code",
   "execution_count": 24,
   "id": "67986693-5ba4-4240-b673-bf0bd78b0548",
   "metadata": {},
   "outputs": [
    {
     "data": {
      "text/plain": [
       "<torch._C.Generator at 0x1c98cf21f10>"
      ]
     },
     "execution_count": 24,
     "metadata": {},
     "output_type": "execute_result"
    }
   ],
   "source": [
    "torch.manual_seed(25)"
   ]
  },
  {
   "cell_type": "code",
   "execution_count": 25,
   "id": "fb8995e6-889d-4692-b8fd-68bb4f879fdb",
   "metadata": {},
   "outputs": [],
   "source": [
    "model = Model()"
   ]
  },
  {
   "cell_type": "code",
   "execution_count": 26,
   "id": "aeba4440-f2ed-4fd0-ac7b-95ea6a255f8b",
   "metadata": {},
   "outputs": [],
   "source": [
    "df = pd.read_csv('penguins.csv')\n",
    "df = df.drop('island', axis = 1)"
   ]
  },
  {
   "cell_type": "code",
   "execution_count": 27,
   "id": "64d5bb99-a3a4-429c-b5f9-373e90249bff",
   "metadata": {},
   "outputs": [],
   "source": [
    "df['species'] = df['species'].replace('Adelie', 1.0)\n",
    "df['species'] = df['species'].replace('Chinstrap', 2.0)\n",
    "df['species'] = df['species'].replace('Gentoo', 3.0)\n",
    "\n",
    "df['sex'] = df['sex'].replace('MALE', 1.0)\n",
    "df['sex'] = df['sex'].replace('FEMALE', 0.0)"
   ]
  },
  {
   "cell_type": "code",
   "execution_count": 28,
   "id": "32cfb037-cda3-443b-bc38-12eaa5eeec09",
   "metadata": {},
   "outputs": [
    {
     "data": {
      "text/html": [
       "<div>\n",
       "<style scoped>\n",
       "    .dataframe tbody tr th:only-of-type {\n",
       "        vertical-align: middle;\n",
       "    }\n",
       "\n",
       "    .dataframe tbody tr th {\n",
       "        vertical-align: top;\n",
       "    }\n",
       "\n",
       "    .dataframe thead th {\n",
       "        text-align: right;\n",
       "    }\n",
       "</style>\n",
       "<table border=\"1\" class=\"dataframe\">\n",
       "  <thead>\n",
       "    <tr style=\"text-align: right;\">\n",
       "      <th></th>\n",
       "      <th>species</th>\n",
       "      <th>bill_length_mm</th>\n",
       "      <th>bill_depth_mm</th>\n",
       "      <th>flipper_length_mm</th>\n",
       "    </tr>\n",
       "  </thead>\n",
       "  <tbody>\n",
       "    <tr>\n",
       "      <th>0</th>\n",
       "      <td>1.0</td>\n",
       "      <td>39.1</td>\n",
       "      <td>18.7</td>\n",
       "      <td>181</td>\n",
       "    </tr>\n",
       "    <tr>\n",
       "      <th>1</th>\n",
       "      <td>1.0</td>\n",
       "      <td>39.5</td>\n",
       "      <td>17.4</td>\n",
       "      <td>186</td>\n",
       "    </tr>\n",
       "    <tr>\n",
       "      <th>2</th>\n",
       "      <td>1.0</td>\n",
       "      <td>40.3</td>\n",
       "      <td>18.0</td>\n",
       "      <td>195</td>\n",
       "    </tr>\n",
       "    <tr>\n",
       "      <th>3</th>\n",
       "      <td>1.0</td>\n",
       "      <td>36.7</td>\n",
       "      <td>19.3</td>\n",
       "      <td>193</td>\n",
       "    </tr>\n",
       "    <tr>\n",
       "      <th>4</th>\n",
       "      <td>1.0</td>\n",
       "      <td>39.3</td>\n",
       "      <td>20.6</td>\n",
       "      <td>190</td>\n",
       "    </tr>\n",
       "  </tbody>\n",
       "</table>\n",
       "</div>"
      ],
      "text/plain": [
       "   species  bill_length_mm  bill_depth_mm  flipper_length_mm\n",
       "0      1.0            39.1           18.7                181\n",
       "1      1.0            39.5           17.4                186\n",
       "2      1.0            40.3           18.0                195\n",
       "3      1.0            36.7           19.3                193\n",
       "4      1.0            39.3           20.6                190"
      ]
     },
     "execution_count": 28,
     "metadata": {},
     "output_type": "execute_result"
    }
   ],
   "source": [
    "X = df.drop('body_mass_g', axis = 1, inplace = True)\n",
    "X = df.drop('sex', axis = 1)\n",
    "y = df['sex']\n",
    "\n",
    "X.head()"
   ]
  },
  {
   "cell_type": "code",
   "execution_count": 29,
   "id": "fe6f7e41-a1a5-45c0-93c1-347c2906edb7",
   "metadata": {},
   "outputs": [],
   "source": [
    "X = X.values\n",
    "y = y.values\n",
    "\n",
    "scaler = MinMaxScaler()\n",
    "X = scaler.fit_transform(X)\n",
    "\n"
   ]
  },
  {
   "cell_type": "code",
   "execution_count": 30,
   "id": "b3ee3b91-6371-49b5-94e5-b3ee25657a8a",
   "metadata": {},
   "outputs": [],
   "source": [
    "X_train, X_test, y_train, y_test = train_test_split(X, y, test_size = 0.2)"
   ]
  },
  {
   "cell_type": "code",
   "execution_count": 31,
   "id": "483f3b60-cc4c-4770-9350-fed1253f84ee",
   "metadata": {},
   "outputs": [],
   "source": [
    "X_train = torch.FloatTensor(X_train)\n",
    "#X_train = F.normalize(X_train, p = 2, dim = 1)\n",
    "\n",
    "X_test = torch.FloatTensor(X_test)\n",
    "#X_test = F.normalize(X_test, p = 2, dim = 1)\n",
    "y_train = torch.LongTensor(y_train)\n",
    "y_test = torch.LongTensor(y_test)"
   ]
  },
  {
   "cell_type": "code",
   "execution_count": 32,
   "id": "22003efc-7816-4ce8-a99d-19d6055a80c3",
   "metadata": {},
   "outputs": [],
   "source": [
    "criterion = nn.CrossEntropyLoss()\n",
    "optimizer = torch.optim.Adam(model.parameters(), lr = 0.01)"
   ]
  },
  {
   "cell_type": "code",
   "execution_count": 33,
   "id": "80e1f9a8-1b4f-47d2-b2ef-a8eedaae7774",
   "metadata": {},
   "outputs": [
    {
     "data": {
      "text/plain": [
       "<bound method Module.parameters of Model(\n",
       "  (fc1): Linear(in_features=4, out_features=10, bias=True)\n",
       "  (fc2): Linear(in_features=10, out_features=10, bias=True)\n",
       "  (out): Linear(in_features=10, out_features=2, bias=True)\n",
       ")>"
      ]
     },
     "execution_count": 33,
     "metadata": {},
     "output_type": "execute_result"
    }
   ],
   "source": [
    "model.parameters"
   ]
  },
  {
   "cell_type": "code",
   "execution_count": 34,
   "id": "f6b3e12a-5a0d-4ed2-98c7-659b08655ee6",
   "metadata": {},
   "outputs": [
    {
     "name": "stdout",
     "output_type": "stream",
     "text": [
      "Epochs: 0 and Loss: 0.6926823854446411\n",
      "Epochs: 10 and Loss: 0.6868465542793274\n",
      "Epochs: 20 and Loss: 0.6715359091758728\n",
      "Epochs: 30 and Loss: 0.6360664367675781\n",
      "Epochs: 40 and Loss: 0.5845547914505005\n",
      "Epochs: 50 and Loss: 0.532543957233429\n",
      "Epochs: 60 and Loss: 0.49865299463272095\n",
      "Epochs: 70 and Loss: 0.4826599955558777\n",
      "Epochs: 80 and Loss: 0.47593069076538086\n",
      "Epochs: 90 and Loss: 0.4727451205253601\n"
     ]
    }
   ],
   "source": [
    "#Train the model\n",
    "\n",
    "epochs = 100\n",
    "losses = []\n",
    "\n",
    "for i in range(epochs):\n",
    "    y_pred = model.forward(X_train)\n",
    "    loss = criterion(y_pred, y_train)\n",
    "    losses.append(loss.detach().numpy())\n",
    "    if i % 10 == 0:\n",
    "        print(f'Epochs: {i} and Loss: {loss}')\n",
    "    optimizer.zero_grad()\n",
    "    loss.backward()\n",
    "    optimizer.step()\n",
    "    "
   ]
  },
  {
   "cell_type": "code",
   "execution_count": 35,
   "id": "d6412687-bc35-498c-a9d3-86b3884ff7ea",
   "metadata": {},
   "outputs": [
    {
     "data": {
      "text/plain": [
       "Text(0, 0.5, 'Loss')"
      ]
     },
     "execution_count": 35,
     "metadata": {},
     "output_type": "execute_result"
    },
    {
     "data": {
      "image/png": "[encoded data removed]",
      "text/plain": [
       "<Figure size 640x480 with 1 Axes>"
      ]
     },
     "metadata": {},
     "output_type": "display_data"
    }
   ],
   "source": [
    "plt.plot(range(epochs), losses)\n",
    "plt.xlabel('Epoch')\n",
    "plt.ylabel('Loss')\n"
   ]
  },
  {
   "cell_type": "code",
   "execution_count": 36,
   "id": "779e8c36-92e7-4a49-a243-360ad5f0d63d",
   "metadata": {},
   "outputs": [
    {
     "data": {
      "text/plain": [
       "tensor(0.4910)"
      ]
     },
     "execution_count": 36,
     "metadata": {},
     "output_type": "execute_result"
    }
   ],
   "source": [
    "with torch.no_grad():\n",
    "    y_eval = model.forward(X_test)\n",
    "    loss = criterion(y_eval, y_test)\n",
    "loss"
   ]
  },
  {
   "cell_type": "code",
   "execution_count": 37,
   "id": "56ad3044-0615-4092-9396-8e670c5dfcd4",
   "metadata": {},
   "outputs": [
    {
     "name": "stdout",
     "output_type": "stream",
     "text": [
      "1. tensor([1, 0], dtype=torch.int32) \t 0\n",
      "2. tensor([1, 0], dtype=torch.int32) \t 0\n",
      "3. tensor([1, 0], dtype=torch.int32) \t 1\n",
      "4. tensor([1, 0], dtype=torch.int32) \t 0\n",
      "5. tensor([0, 1], dtype=torch.int32) \t 1\n",
      "6. tensor([0, 1], dtype=torch.int32) \t 1\n",
      "7. tensor([0, 0], dtype=torch.int32) \t 1\n",
      "8. tensor([1, 0], dtype=torch.int32) \t 0\n",
      "9. tensor([0, 1], dtype=torch.int32) \t 1\n",
      "10. tensor([1, 0], dtype=torch.int32) \t 0\n",
      "11. tensor([1, 0], dtype=torch.int32) \t 1\n",
      "12. tensor([0, 1], dtype=torch.int32) \t 1\n",
      "13. tensor([0, 1], dtype=torch.int32) \t 1\n",
      "14. tensor([1, 0], dtype=torch.int32) \t 0\n",
      "15. tensor([1, 0], dtype=torch.int32) \t 0\n",
      "16. tensor([1, 0], dtype=torch.int32) \t 0\n",
      "17. tensor([0, 1], dtype=torch.int32) \t 1\n",
      "18. tensor([1, 0], dtype=torch.int32) \t 0\n",
      "19. tensor([1, 0], dtype=torch.int32) \t 0\n",
      "20. tensor([1, 0], dtype=torch.int32) \t 0\n",
      "21. tensor([1, 0], dtype=torch.int32) \t 0\n",
      "22. tensor([1, 0], dtype=torch.int32) \t 0\n",
      "23. tensor([1, 0], dtype=torch.int32) \t 0\n",
      "24. tensor([0, 1], dtype=torch.int32) \t 0\n",
      "25. tensor([1, 0], dtype=torch.int32) \t 1\n",
      "26. tensor([1, 0], dtype=torch.int32) \t 0\n",
      "27. tensor([0, 1], dtype=torch.int32) \t 0\n",
      "28. tensor([1, 0], dtype=torch.int32) \t 0\n",
      "29. tensor([0, 1], dtype=torch.int32) \t 1\n",
      "30. tensor([1, 0], dtype=torch.int32) \t 0\n",
      "31. tensor([0, 1], dtype=torch.int32) \t 0\n",
      "32. tensor([1, 0], dtype=torch.int32) \t 0\n",
      "33. tensor([1, 0], dtype=torch.int32) \t 0\n",
      "34. tensor([0, 1], dtype=torch.int32) \t 1\n",
      "35. tensor([0, 1], dtype=torch.int32) \t 1\n",
      "36. tensor([1, 0], dtype=torch.int32) \t 1\n",
      "37. tensor([1, 0], dtype=torch.int32) \t 1\n",
      "38. tensor([0, 1], dtype=torch.int32) \t 1\n",
      "39. tensor([0, 1], dtype=torch.int32) \t 1\n",
      "40. tensor([0, 1], dtype=torch.int32) \t 1\n",
      "41. tensor([0, 1], dtype=torch.int32) \t 1\n",
      "42. tensor([0, 1], dtype=torch.int32) \t 1\n",
      "43. tensor([0, 1], dtype=torch.int32) \t 0\n",
      "44. tensor([0, 1], dtype=torch.int32) \t 1\n",
      "45. tensor([0, 1], dtype=torch.int32) \t 1\n",
      "46. tensor([1, 0], dtype=torch.int32) \t 0\n",
      "47. tensor([0, 1], dtype=torch.int32) \t 1\n",
      "48. tensor([1, 0], dtype=torch.int32) \t 0\n",
      "49. tensor([1, 0], dtype=torch.int32) \t 0\n",
      "50. tensor([0, 1], dtype=torch.int32) \t 0\n",
      "51. tensor([0, 1], dtype=torch.int32) \t 1\n",
      "52. tensor([0, 1], dtype=torch.int32) \t 1\n",
      "53. tensor([0, 1], dtype=torch.int32) \t 0\n",
      "54. tensor([0, 1], dtype=torch.int32) \t 1\n",
      "55. tensor([0, 1], dtype=torch.int32) \t 0\n",
      "56. tensor([1, 0], dtype=torch.int32) \t 0\n",
      "57. tensor([0, 1], dtype=torch.int32) \t 1\n",
      "58. tensor([0, 1], dtype=torch.int32) \t 1\n",
      "59. tensor([0, 1], dtype=torch.int32) \t 0\n",
      "60. tensor([1, 0], dtype=torch.int32) \t 0\n",
      "61. tensor([1, 0], dtype=torch.int32) \t 0\n",
      "62. tensor([0, 1], dtype=torch.int32) \t 1\n",
      "63. tensor([1, 0], dtype=torch.int32) \t 0\n",
      "64. tensor([1, 0], dtype=torch.int32) \t 0\n",
      "65. tensor([1, 0], dtype=torch.int32) \t 0\n",
      "66. tensor([1, 0], dtype=torch.int32) \t 0\n",
      "67. tensor([1, 0], dtype=torch.int32) \t 0\n",
      "\n",
      " We got 53 right in 67 items\n"
     ]
    }
   ],
   "source": [
    "correct = 0\n",
    "\n",
    "with torch.no_grad():\n",
    "    for i, data in enumerate(X_test): \n",
    "        y_val = model.forward(data)\n",
    "        y_val = (y_val > 0.5).int()\n",
    "\n",
    "        print(f'{i+1}. {str(y_val)} \\t {y_test[i]}')\n",
    "        if y_val.argmax().item() == y_test[i]:\n",
    "            correct += 1\n",
    "\n",
    "print(f'\\n We got {correct} right in {len(y_test)} items')"
   ]
  },
  {
   "cell_type": "code",
   "execution_count": 38,
   "id": "5c24749b-ac64-4460-a712-6eea056feee7",
   "metadata": {},
   "outputs": [
    {
     "data": {
      "text/plain": [
       "tensor([0., 1.])"
      ]
     },
     "execution_count": 38,
     "metadata": {},
     "output_type": "execute_result"
    }
   ],
   "source": [
    "new_penguins = torch.tensor([2.0, 50.0, 18.0, 185])\n",
    "with torch.no_grad():\n",
    "    y_pred = model.forward(new_penguins)\n",
    "\n",
    "y_pred\n",
    "\n",
    "# the prediction below is explained thus: the first and second value represents the the prob of female and the prob of male \n",
    "# respectively. it takes that order primmarily because its sequenctial. i indicated that 0 be for female and 1 for male. so \n",
    "# its in a sequential order. hence, the prob of being female is 0, while the prob. of being male is 1. thus the prediction is\n",
    "# that the penguine with the features indicated is male."
   ]
  },
  {
   "cell_type": "code",
   "execution_count": 39,
   "id": "98c0d050-6c72-4cf5-b065-762a9f02f875",
   "metadata": {},
   "outputs": [],
   "source": [
    "torch.save(model.state_dict(), 'Samuel_penguins_model.pt')"
   ]
  },
  {
   "cell_type": "code",
   "execution_count": 40,
   "id": "9a94072d-5225-46b1-a91c-da801bab2ce4",
   "metadata": {},
   "outputs": [
    {
     "data": {
      "text/plain": [
       "<All keys matched successfully>"
      ]
     },
     "execution_count": 40,
     "metadata": {},
     "output_type": "execute_result"
    }
   ],
   "source": [
    "new_model = Model()\n",
    "new_model.load_state_dict(torch.load('Samuel_penguins_model.pt'))"
   ]
  },
  {
   "cell_type": "code",
   "execution_count": 41,
   "id": "fb970cfe-1b92-4da1-9806-1b93e03643df",
   "metadata": {},
   "outputs": [
    {
     "data": {
      "text/plain": [
       "Model(\n",
       "  (fc1): Linear(in_features=4, out_features=10, bias=True)\n",
       "  (fc2): Linear(in_features=10, out_features=10, bias=True)\n",
       "  (out): Linear(in_features=10, out_features=2, bias=True)\n",
       ")"
      ]
     },
     "execution_count": 41,
     "metadata": {},
     "output_type": "execute_result"
    }
   ],
   "source": [
    "new_model.eval()"
   ]
  },
  {
   "cell_type": "code",
   "execution_count": null,
   "id": "40daa742-d8bf-487e-82f0-aceac8ca7819",
   "metadata": {},
   "outputs": [],
   "source": []
  }
 ],
 "metadata": {
  "kernelspec": {
   "display_name": "Python 3 (ipykernel)",
   "language": "python",
   "name": "python3"
  },
  "language_info": {
   "codemirror_mode": {
    "name": "ipython",
    "version": 3
   },
   "file_extension": ".py",
   "mimetype": "text/x-python",
   "name": "python",
   "nbconvert_exporter": "python",
   "pygments_lexer": "ipython3",
   "version": "3.11.5"
  }
 },
 "nbformat": 4,
 "nbformat_minor": 5
}
